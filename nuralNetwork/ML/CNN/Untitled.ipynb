{
 "cells": [
  {
   "cell_type": "code",
   "execution_count": 22,
   "id": "f4dc1606-0c18-44ec-be3e-1daff154c5e8",
   "metadata": {},
   "outputs": [
    {
     "ename": "FileNotFoundError",
     "evalue": "[WinError 3] The system cannot find the path specified: 'trainData'",
     "output_type": "error",
     "traceback": [
      "\u001b[1;31m---------------------------------------------------------------------------\u001b[0m",
      "\u001b[1;31mFileNotFoundError\u001b[0m                         Traceback (most recent call last)",
      "Cell \u001b[1;32mIn[22], line 45\u001b[0m\n\u001b[0;32m     43\u001b[0m \u001b[38;5;66;03m# Example usage\u001b[39;00m\n\u001b[0;32m     44\u001b[0m directory_path \u001b[38;5;241m=\u001b[39m \u001b[38;5;124m\"\u001b[39m\u001b[38;5;124mtrainData\u001b[39m\u001b[38;5;124m\"\u001b[39m\n\u001b[1;32m---> 45\u001b[0m images, labels \u001b[38;5;241m=\u001b[39m \u001b[43mload_images_and_labels\u001b[49m\u001b[43m(\u001b[49m\u001b[43mdirectory_path\u001b[49m\u001b[43m,\u001b[49m\u001b[43m(\u001b[49m\u001b[38;5;241;43m200\u001b[39;49m\u001b[43m,\u001b[49m\u001b[38;5;241;43m200\u001b[39;49m\u001b[43m)\u001b[49m\u001b[43m)\u001b[49m\n\u001b[0;32m     47\u001b[0m \u001b[38;5;66;03m#to rescale images 0 to 1 value\u001b[39;00m\n\u001b[0;32m     48\u001b[0m train_images_array \u001b[38;5;241m=\u001b[39m np\u001b[38;5;241m.\u001b[39marray(images)\u001b[38;5;241m/\u001b[39m\u001b[38;5;241m255\u001b[39m\n",
      "Cell \u001b[1;32mIn[22], line 20\u001b[0m, in \u001b[0;36mload_images_and_labels\u001b[1;34m(directory, target_size)\u001b[0m\n\u001b[0;32m     17\u001b[0m labels \u001b[38;5;241m=\u001b[39m []\n\u001b[0;32m     19\u001b[0m \u001b[38;5;66;03m# Iterate through each subdirectory (assuming each folder corresponds to a label)\u001b[39;00m\n\u001b[1;32m---> 20\u001b[0m \u001b[38;5;28;01mfor\u001b[39;00m label_name \u001b[38;5;129;01min\u001b[39;00m \u001b[43mos\u001b[49m\u001b[38;5;241;43m.\u001b[39;49m\u001b[43mlistdir\u001b[49m\u001b[43m(\u001b[49m\u001b[43mdirectory\u001b[49m\u001b[43m)\u001b[49m:\n\u001b[0;32m     21\u001b[0m     folder_path \u001b[38;5;241m=\u001b[39m os\u001b[38;5;241m.\u001b[39mpath\u001b[38;5;241m.\u001b[39mjoin(directory, label_name)\n\u001b[0;32m     23\u001b[0m     \u001b[38;5;66;03m# Check if it's a directory\u001b[39;00m\n",
      "\u001b[1;31mFileNotFoundError\u001b[0m: [WinError 3] The system cannot find the path specified: 'trainData'"
     ]
    }
   ],
   "source": [
    "#convert image to array\n",
    "\n",
    "import os\n",
    "from PIL import Image\n",
    "import numpy as np\n",
    "\n",
    "'''\n",
    "the function below convert all image found the directory\n",
    "into array and label images based on the folder name inside the \n",
    "directory\n",
    "\n",
    "'''\n",
    "\n",
    "\n",
    "def load_images_and_labels(directory, target_size=(100, 100)):\n",
    "    images = []\n",
    "    labels = []\n",
    "\n",
    "    # Iterate through each subdirectory (assuming each folder corresponds to a label)\n",
    "    for label_name in os.listdir(directory):\n",
    "        folder_path = os.path.join(directory, label_name)\n",
    "\n",
    "        # Check if it's a directory\n",
    "        if os.path.isdir(folder_path):\n",
    "            # Iterate through each image file in the folder\n",
    "            for filename in os.listdir(folder_path):\n",
    "                image_path = os.path.join(folder_path, filename)\n",
    "                try:\n",
    "                    # Open image using PIL\n",
    "                    with Image.open(image_path) as img:\n",
    "                        # Resize image\n",
    "                        img = img.resize(target_size)\n",
    "                        # Convert image to array\n",
    "                        images.append(np.array(img))\n",
    "                        labels.append(label_name)\n",
    "                except Exception as e:\n",
    "                    print(f\"Error processing {image_path}: {e}\")\n",
    "\n",
    "    return images, labels\n",
    "\n",
    "\n",
    "\n",
    "# Example usage\n",
    "directory_path = \"trainData\"\n",
    "images, labels = load_images_and_labels(directory_path,(200,200))\n",
    "\n",
    "#to rescale images 0 to 1 value\n",
    "train_images_array = np.array(images)/255\n",
    "\n",
    "train_images_label = np.array(label)\n",
    "\n",
    "\n",
    "train_dataset = {\n",
    "    images:train_images_array,\n",
    "    label:train_images_label}\n",
    "\n",
    "\n",
    "\n",
    "\n",
    "\n"
   ]
  },
  {
   "cell_type": "code",
   "execution_count": null,
   "id": "6bf183f9-da00-41b3-b7ad-a33f46c55cee",
   "metadata": {},
   "outputs": [],
   "source": []
  }
 ],
 "metadata": {
  "kernelspec": {
   "display_name": "Python 3 (ipykernel)",
   "language": "python",
   "name": "python3"
  },
  "language_info": {
   "codemirror_mode": {
    "name": "ipython",
    "version": 3
   },
   "file_extension": ".py",
   "mimetype": "text/x-python",
   "name": "python",
   "nbconvert_exporter": "python",
   "pygments_lexer": "ipython3",
   "version": "3.12.2"
  }
 },
 "nbformat": 4,
 "nbformat_minor": 5
}
